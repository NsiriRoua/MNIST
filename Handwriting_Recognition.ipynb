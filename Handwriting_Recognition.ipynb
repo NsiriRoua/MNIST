{
  "nbformat": 4,
  "nbformat_minor": 0,
  "metadata": {
    "colab": {
      "name": "Handwriting Recognition",
      "provenance": [],
      "authorship_tag": "ABX9TyOmdXQeH3js/qTQD3/uulW/",
      "include_colab_link": true
    },
    "kernelspec": {
      "name": "python3",
      "display_name": "Python 3"
    }
  },
  "cells": [
    {
      "cell_type": "markdown",
      "metadata": {
        "id": "view-in-github",
        "colab_type": "text"
      },
      "source": [
        "<a href=\"https://colab.research.google.com/github/NsiriRoua/MNIST/blob/main/Handwriting_Recognition.ipynb\" target=\"_parent\"><img src=\"https://colab.research.google.com/assets/colab-badge.svg\" alt=\"Open In Colab\"/></a>"
      ]
    },
    {
      "cell_type": "markdown",
      "metadata": {
        "id": "Z81HsanZDPkG"
      },
      "source": [
        "\r\n",
        "![image.png](data:image/png;base64,iVBORw0KGgoAAAANSUhEUgAAASwAAACoCAYAAABaK9MPAAAgAElEQVR4Ae3drbMtORUF8PkPRjwzagQONwpFIXGoEWgUFodA4JA41BQSiUJjUGgECoFCYDAYqqh61O8WayqT6Y+kz+mve5Kqfv2V7s7aa++VnXS/cz/5OMqwwLDAsMBNLPDJTdo5mjksMCwwLPBxCNZwgmGBYYHbWGAI1m2oGg0dFhgWGII1fGBYYFjgNhYYgnUbqkZDhwWGBXYRrH/84x8f//vf/37Luo79/e9//9bx+sA///nPj//5z3/qw5fb10ZtnSqO//vf/5469Y1jLfb4xgUn7bwKp8w7xwn/ZYe1MmerteuOPs8///Wvf00+Foa1GFzy/8mbPuHgLoL105/+dDJYGegnP/nJarN/9atfzTrN3MV//vOfP/74xz/++POf//zjH/7wh7lqTz3OsbV1qvz617/++Ne//nXq1NfHEN5ij68v+P/GH//4x7frXNsiivX1W/bP4DTt/NGPfnQYp57peVNFJ/Szn/1s6tQ3js3Z6huVqh3++8Mf/vDjL3/5y+rMfrt/+tOfPv7+97+ffIA4muuMc8GS/6fO1Nq92egXv/jF1OnFY7sIFlIFo8CybRFYjn355ZdvpJSkCm77v/nNb94aa3+ul5tD41m//e1vV408d/2W49qorXrekBAH0BaEwBUBVd++Jb2w7Z7iWT/4wQ/eLvnLX/7y9vye67fWPYNTbWVHnULsurX9Pdfp+JTf/e53b76LW3aXjRAz++yRQmTwmDbG33O+Ze3+YqTXH1ruPVeHSGpznuvZRExhc7h0iuop/E0di1iO/7+dbPzHvSLKuM29Gy/f57OGkrC//e1vb8KVRn7/+99/a5vsg1E0WNAzmjqOE65asDiJ8xZCwJnK4jmM756lM5V1nr1dEqY30gYOjcyvvvrqa6HSczpmTahcl168dlD2gC9Y4S57OtfmGse3ZGhb7HAWp3HqiMGWtvdeE8HCGU75moWP4lDRQeZ4zuECJzhTN8V9av9NJ5Y61gQx3JbH99rma7Erv4T1iy++eHuc9hIoJR3kd7/73Td8YlQ7YRW7ZYGr9F9+XNrCcxIH7sF2PWXXDEuDALBouJIACzkRGWtLjFALlntwkixLyhyj9xhiS90IVkREmzh7BCtDQthtIx4OOOFQagd1rxKr7ZJw9klAIf8ocfYcuI7kVDbOoT2b3/CZI0rsax1hIpx4iL3xpHMUsDrY+C8bqVNyJnsqOXXP+EaJJzFRHttzm79qlzWRsf7e97739kg+y9cUnMPrnPqwqsv/asGCKzGaNZuURR33YDf36ym7CBaAGolwKo1YBlE+/fTTN0COaWwCUD0AEc0IDFQWIPUAFtv1eQa0MESyl/L6Pba1QVu1Jz3SJ5988rVgsYM2JatkA+2DNal3BDztY48aa024a9hKYLj/EeUMTgUwexCtOjD2xBz/kQngCvYIFn7Z3DHnLHiw5s/EyblasGpOBXtZYHV9nlme22s7c1h8iXjYh0/hz2LUsQh4/A5+CwzqlMWxGiublMXzXM/O9bmy3tT2LoKlwRoi0DQOCEKjOBei0yBkBYRjhKAkPPWW1p5R3mOp7rPOaWOEEyYk2Ifd2qJNJRZ1HEvvxR5binvEpluu773mDE7TRrbC71EFl0r80rMteGVzHJa8xfdyXWzV014YcUogLEcU+GJXmLQ/uOCM/5aiom3a6VrxrU5vSQzUHXHLfXYRrJYHjzrDAsMCwwK9FhiC1WuxUX9YYFjgNAvsIljSSmPhs5bMlx1hVRPDZ+H03HK4uTde849nYt0bX+5vyHMmTvNlRxXPOhNrL85dBMv490wj1BOBvUbpqW8i8kysRwqWt69nYu3h5ZG65mnOxNn7qv8RrJ51Jtbetg/B6rVYVX8I1nGZdGX63XaHYF2X0yFYD7r9EKzrOvdWaodgXZfTIVhbvfr/1z1DsD58+PD2rYv03PyJ73q+853vNKXqY0j4IIETlw/BGoLVFHxTY2kfl/lwTRD70tbiI0If2Qlw5+rJ4DvNYWm7r4p9A5NvW8wBwvbZZ5+t2u29CJaPa/HqfwNM+YFjR5U9BAsu/11Lh+SlUO2zJWbcH1U8q3z20du9OHfxgt5Jd/9HiTDJVgQvI3p7YZ0P2gQ0wh0T2D5mc8w1Nfl3EayIFXspPqQjQPkgr2WS+0zB0n6ZIP4ecXT38XW4YOYHc/fqde6t9Z8tWMTY/3AIV7aXOiM+flTxrDl7H3G8F+dpgiUYiZNeldE4CQHKF+A1EM6sLtFCuP9KMDd0uoNgff755289LbEivhZCTKBlj7aJtgCuBbl0pARBba899msBhYHQWJbaWLZ3atuQGGdwv0fBYh9fhOeL8fcgWPgmxBKG/MduOHVeFhnlkijHD3r99DTB8v1S/ltA3WgZBuGyINk+cRIwFgZhjLkgubJgabP/L6aNEavgJ1KCFla2gZuYL2UwZwqW4bn26UjmuIhjLq1laXDrlNhmrm7stPf6mRkWbDpZvowrnbIAX7IXmx5VPGvO3nPHdVR8lPDy4WDz/SWs+c/gU6Of+p69OE8TLM7OQQWm3ieBR6BK4DIO+0tzG7URrixYwU2MFLjZgFgp8CKaMzjGRnVmU+KN3d4u3vmfuh2yIdw8IlgCF15OL3iWXjbsDO/r2z9LsAQ2cUp2hVtzriV/U9tXFiyYjIzis7DxVULFV+OP1kYI6k9hzLGvjd64cZpgcVQOD7xUkpMQK4ZwLIBkF0hfyjJSN+urClYcmBDBilSZBbzWyEc8rBybLTi51DvY6nUcpJHvh6rVgiVLflSwIuBswg5Lw4iHGt9x8TMEyzA3Q0GdE57gWwtg/F5VsLRdZqVzwRefLV962eYPfNt5ddmh9tlyv4OWt6qnCVYaHUDpiaaGBUvpc+5Trq8oWDDASIQiVrASI0HLuWUaCViZRjJPxM/Z4EzB0i54HsmwZM6Zu1z7b069zr21/jMEC6cyD2JlWet4Sv+9omDxR3FVihWMabdO1lCQbwdvS5LRy9HpghXAgpXjClKBneNb1lcULL0PgUJmMqdSiAhSKUqEK28P9WRzQ+KzBEu2JeXXkz4iWJnLZJM5jPGBXufeWv8ZgsWf2UYAw1ZyHTxz66sJFmEK1zAZBdTZtg43/iqG4Z/DVx7v5egygiVAOT5yBejSXEYJeGr7aoIVsUI2UUauyeWlHkj6HQdwjXtMYT1LsLSfAONrawfD6QUnDDDWQVDj7XXurfUfFSwizDZKAnyJ6xrnlQSLWGkPHBZZY43FKImIRZzFX9n51vjK/V6OLiNYQHBYBslcDpVemr8pgZfbVxIsxOmdZFYRqxYyS8EyL3A1wTL/KLCJ6tKnCCUv2dY5uYaTEzzDDJxlOJx69brXubfWf0Sw8GZoRIRx7l5Lbz5rjPavJFjm3XBErLSrHAZqqxh1nB+kTi1oUxhzrJejSwkWEHonJHNiAS7b4twtQR4jXEmwEAoHB+bIaePamuMTbuXKgqVtc0M5AqTDEbB49YU3bgg4XtlFrwxnS8fU69xb628VLD5q6Mcm+M4b3zWu6/NXEqy0pZyDI1r8Gpc4JMyKbTzXeJb2ezm6nGAhXTbBoYkWY0ivGUgQL4HPuasIloDNxCsyYUgb19aujWBxljlHEBhHlXLIlgwLR4byOMsiaHFAoPGIP2s4iAGbOC8YtF+Ar2VX7HVU2SpYhvp4VmQl7LLG89T5iMQReD1rqg05hisFd3gt32jLqPAnRnU86ua61nUvxl28QHrY2uC5elScw3OA9FYM1jK3dRXBklnEgTlGGfBzuHMcfoIFOzvMXev8UaVsQ/jRRnxz6CyOWWCPQMGAPzZJx2PuK9wG99L6KJxbBIttXJdChAnYEp65c1cSLFkxLhWiRKTs4zqdEA4zrJ/DNHc89mpdX1awAJRtySxiMIHB6efA5/hVBEsWImj1QIhP+9bWnN+wiRPITpaGS2cJFgw6D3wQo3ohRsRproOBUY+s/a09c6tTP1pvi2DJPOKn+IapZxqj9IkrCRYMsPFjC1xJHEy25+0hAZsbBZTY6u1eri4tWMDpjRlK4QgMtOYIVxMsvVJrb5vMxZCCExhGLuE9U7Bq5+vZ59x4FeQtnZB7H1V6BUuHomPBhSwErlZMUza7kmBNtS/HdDp8VJFtLXWsuaZe93K6ixc8OiQUoMDrpZEn01AEccsr9KsJFlJlWzVZ5T7M5oD0YIIYbuK1JFauv6tgwWrYxDZwlraY2+517q31ewTL3FspVrhb+/mYOXw5fhfBwluSCRl22t+z7uXocoLljZPJSk6T16l6LUvrvMCVBEubCe7ShLueCmZCz+Flka2vht+DYLVi7XXurfV7BQtvCh+VabQK8Fxg30WwtJ+tlK0vGN4u7vjnMoKFZD2T3opQGf6lJIj1ypmwnSPb8asJFkfmhOZ0ZEwWeDP/AzOMHD/1lvCV5+4uWHpodikxzW3HH/ZetwoWHmX8hvwpWwO3xHwXwTI/mSHhVtyxW+v6dMGSUgtcQyEBG6ES5Alg52UhJalL21cTLGQQYb0vYi22ZV+cXQaGeO2WYa4NA0vsdxYsYsUGa8Pl4G116kfrtQqWaQt1+WxGAEuZdHCsre8iWDoa/CnvWrAEJCclRIASJoQrAtB+3ka0DhdKJ7iKYMmiZE+lCBOo9MgRZeN/jr4F690FC9etLyTeHOSAf1oFC2c6Ijzi1Nu0lhFA6atT23cRLJ1r5rDepWAJSKosjQY0k+nxQfsyD0I29zp8iuD62FUEizDDQrQiUrBGqIK15aPJGmP27y5YAl6gB8/SOn6y97pFsHBLaNkfn4b0rUPbJYzO3UWw2IBvK+9u0p1YUWFCleBFNpHitI4D/eiEJcKvIlhxTI5sIh1GC5IfFeXc+66CJcM2DL6rYLG/DCudLsFqHdqGu7n1XQRL+8W0eDYi2jJC6O18DpvDQqaMArGc1FBA4BIXGdczhCoOcDXBSrv2WN9VsDi3DopoEe8W2/Q699b6LRmW9vLZzL3C8WoZFhtkHk9cE6/e0UIvR4cJFnC+jAXIYltKmaXFYVvrDMHqdYO2+j0vPlq4wn38oKV+Wysfr9UqWNoMQ/y5BUNLnTtlWPB4uy8BsbR8J1naoJetQwWrbOie20Owet2grf6zBavXB9pa+XitHsHqxdBS/26CRbDN58kyjZrst+BUp7f0X9HwBErb2uA96pnEPar4NmwPDK33PHJI+Iw3YK24puodxamgm3r+UcfuJlixi2F+b6fWy+kugiWIkH7Wkm9Deo2xpX56lbOwekN1VJF5nIXT/OdRxUT6WTg913zQUcWzzsK6hdNdBOsoY4/nDAsMC7yWBYZgvRbfA+2wwK0tMATr1vSNxg8LvJYFhmC9Ft8D7bDArS0wBOvW9I3GDwu8lgWGYL0W3wPtsMCtLTAE69b0jcYPC7yWBYZgvRbfA+2wwK0tMATr1vSNxg8LvJYFhmC9Ft8D7bDArS0wBOvW9I3GDwu8lgWGYL0W3wPtsMCtLTAE69b0jcYPC7yWBYZgvRbfA+2wwK0tsItg+a3rqd9pcszvR60VP8DX+xMbfivd72BZ/ATzEUUb534s0M/Frv3Mjb+m02KPGovfS/LLjr02qu/Ts38Gp35XLZzaPqr4qeOp4mdn/JzzWpmz1dJ1fAWnfnL5qOLnguZ+e0tb8nv1c+1Z8v+5a3IcXjHSW3YRLKQKRk7mjy/EKI75ZUK/g1MS4zelvvrqq7dfLAQAkN5g9Cz3Z2S/tX1E0cYYHR4YEli2HYM/x7SPLSy2/ZYVe/QWguy57HZUOYNTNsrix+GOKulE2Bd/+d0mf2wBX3jNMW3ye1Il92w11WEvtd+9+ckWf1i679I5+GDhh3wShnT2OmIYHYtwaWMZz6X/Lz2nPodTOL/88sv61Or+roIFPLCU3B8cUDgeoAlc234TGsGIVn9KsACk+lkYbqq4Xxxu6vwzj5WE2Uao3pUDaB/SSwGFgVOmN9WW2kHZih2CMzap282RzhCsozkVNPic47u2yzP24z84xR9f1Q4+6ldXHcMtriy4iJgJxlqw4tslp6Xgpc25R/b3XkewtDlYIyJiEm7Hk3H6QzL4d50YTayW7SSApf/CXIu3rNm1eVZ5/dr2roLFyTQeeI1UBLQScgB0zHl1BTRxY6iyAFgurq+L84yKgCOKNiIOIZwcBtmd53PiDAk5tyGrc7bVYxOlFiz3KnHanvpV0bME62hO2Yg98XpUiWDFJ/ml4MWNAFRw7zz+nU9dfE0Fac1pHcTumZg4CifhIZxEiHjwTX9UQ4FHm5V0tMQ6/itGXQd/Wab8tzzvmewjHvzFHffoKbsKVpRZypwA9QdSEcNQQGcsKygdt2aEWrAESrIya/csC+AMwMhTzlDWfdZ2BAsJyQBkkBEs+Gz7C7kKYdY+x6xhjYCnTexR4rRdi7Pr2YgNpsQs93rmWlB67pGcshHsFr8VflRJzx+RxK2FX/Ffax0GH7ZkWKW9CluVPshutf/ymbLgkT8RS/WPKLLDtJ8vabPfZ1eIinOOhXNr+9qHE+0lYGWBq/bf0hbiNM8UK+nUy3ssbe8iWBqEAI0ByH4EBhjkCeYEm3PqCULGsB/ylxpfnvMM17uv9REFacHFgT2X88KAONtw6U0UxKlj4SyKOr0l93Xv2vF779Va/wxOYYPRknnA1vY+Uo+PKnk+7Lbx6hwf48Mp4YMPKOqr21PgC9bcp+f6LXU9M77JJ2EKLn4dXEkexKR62um60v+3PD927rl2F8HqacCoOywwLDAs0GqBIVitlhr1hgWGBU63wC6CJYU03jUeP3ox/5C09gjrSo8982icnpc5hSNweobJ1zNwButROA13zF+dgdVzDSmPKp51FtbMjfVg3UWwjI3zxxXPWBORo4pJ8zMw5pnlhObemE2S5rlnrPfGl/ubXzwDX565ZW4nbe9de1aee8a6t71DsHotVtV/JcHq/au+zw6AyvS77Q7B+uQwEeslcQhWr8Wq+kOwruvcFVXNu0OwrsvpEKxmN56uuEWwfJxnfsTrccNX349tzUaOHBKODOuYQH5vQ0JzvD5E9T1i7efTUTV/9BaC5WM9X4l/+PDhW4BrA9i/+hyWwPedi291fMviIz0iNoVl7dgdBAs2/MHJcevFR8Umftewzrvxc888mmEJTBPKa3jmzr8nwcI7X/cd21Tn3svcJQWLMMk6ZCG+GpaJINFbqs8++2zVEa4uWLB5E0WwfDyrvS24phz8qoLlv3EIWpzhEH9zbWUHTk20loS717m31n9EsGDwwSWfneKr5dh7ESwdszf2Pjj1NvLdZVgRKg7OgX0ewckT2HMqXTvB1QVLxsgpZVfvUbC8TZQ1CXzOGpy1gMCeBc+ceml4XF+/1/4jgpVPaojWkvjWPlvuvxfB8lU8/nErq57qlHs5vESGRaikjpycKEWkOLp94hXgjFCSO7V9dcGSfeiBE8jvLcOS+ssgI0Y6HPyVC+zpiFIP7zKyKU4dO6o8Q7D4LJ7nsCwdv4tgwTcnysSJDfDMnlPZ1RZOd/GCnu+wAI5Qceg4cdnj6rEJl4LMtbmsqwuWVFk2AaNgJcJTvc+SU+ecexxVWifdZUnwcVb/2RV3+T9ouNHb+v9ypaixg/pT8xzBehTORwQr/w9QsMqk0/ae9R0Ey3Af1qm5OjGNRzrg/xPbnhO2Xk5PFyxvEMr5nDguh0+AAPueBEtAwxNx5qBTxLc4+RUFS7t1MnpVWPGok8FjuZiEJ1I4h0OQy7TncPc699b6zxAs99j6oe3VBQuH4lOCYfrGfskZ3LjEqc5pKdPs5ehUweLEel5Oq1gTL8OlMoXk8I4r7yHDKoeEMCFebxWBLslf276qYK21O9xrfwSLDZaykjcHOOCfZwiWDqnlzeeUna4uWNrMRrgzOqoFS+crs3aeoC2NiHrpPFWwAM3//SNSwNmveyYGyO/mvAfBQjhBzs92IE2PtTThPOXYjt1RsAx/DRM4vSxTIdreCs/hdPyo8ohg8WOFvy7Nxy3hvLJgiVk88V2iVA/hdTiSEH7JBmsjh15Od/GCnjksxMksltJGxCe4kbk233P1OSyY9ToRYaQRrKXh0JyD30mwcMzBBbUMJJk1/DLouqOqMfc699b6jwiWjIP4igEdcI2hZf/KglUO92TEJWfiEn7YiZm4rbOvGn8vR5cQrBIEgIxAxCyCmGE4geCk3mX9qe07CBZyEZvy3gQLPlmkjNmSL/uJNB4NAy14Nd/B0ZeGDng+qjwiWAQZr+9RsGRPYgtnOpxy2kbcEii48Ut0p2KzPtbL6S5eoNF1w1r29cBAEyjfs1gA1/vqjTl2y7zAXQTrvWZYOhmTrUQYd5ZaqIgVTtXh+Gs9Mf85qjxDsIwIvFRo8fu6zhUzLJxKFpI4iM1yRGDoh0tDfGK2NhQM5l5Od/GCXsGSUREiBolCc2bg8yaNofTCAbq0HoLV6wZt9VteCsisdDj4I0pKsqk8JccNG1oy5nCd6/dePyJYyTL4aw+2YLS+mmARHx/CpsigdEJ4dk78ijl8il82KPEsbeeeretTBUuvCrDMSY9k0RPbZ6A4fXpjx1qU+66C9R4m3QmWQMUl/jhxFkFsO50RJ9Ublz31M527NQjqeo8IliEhH+az/HgJz9y5KwmW7DeZk+QBrxnxRLjs49Z5dVuy5WCvbb+2f5pgAWVeA1jAiRFlFrScXsaF+GRZ6nB0ZK719HcRLL2RwrnZoX7jElKX1uxyVFmze9pprgMWk8541MmUi6ESvArBahXqo3A+IlgCnFApW+9zFcHCNwESdxa4zEfiNMcTn3zYQri0f+klWvzEurf0X9HwhLUhITDmOCJInJZ4RZmj6hEpYsZA6Z05guEhg7pXbZy7CBb8CqIRL8UuyWzZvqJgaTcuw2eNw/G8/n9vgmV4FMGBbc4GtU3K/VzfEGoPV/Gs8tnlthjjo2JPBwRbzmdkFP8rBQu3rbh7ARwuWHnTILWkxibvqHYA2o56MxZhM2SwyMAYWO9MFDlEho9l738HwYIXdj0XshV49F5xipZ1HKaX+C31Sxu3tG2ujgwa9mB+TxkW/47g4BPWOTvMHc/1WzjqvWZJsMSbLHmKH/EoceC74pW4qUvYevykt72HChbyACM2siVKDDiSBSqhQbLzGSKW2ZMgZwyGZCT1iJo5E/eIA9xFsBBMuFMIMWzB0bK+kmDhKh3PXNvxlOwabnxPBcTU9bHT3uutQ7m0GT684FYAr9kk12V9FcGSUc19asJP4TMy4Mdpe++6l8tDBQt5mbsgNoQFWMLFSWQbyboI2RJ4Ts5o7ln3YncQLNhgFLBIV4h475ulKwgW+8uMtX2JN/Vwg/uU9yhYbJFRgKmOJT+eOncVwZpqm2MZDopXiUVPRlXfM37Quj5UsDhrAsxagBIoCyfmvJz+EQMwyF0ES1vrYSHhrgW4Jrncjz1bCX+k3hQv2moSHXfaYls9vXMW+xE0vbJhhLo4N29XZscltnr7kbb3XPtohpU52PfwlrDmAFd8Fn9EGda6Ts9+Dy/qHipYsiHOwGmJlTXQnFa2tNQ79xjhToIlwMuMg5PfSbBwhkNZIiHSfg5dLjKGso6emR/IrsuJ3DWOe517a/1nCRYR7x0OssFVMyxYMhQUv6Z3enx1it9ejg4VLA3W2wJtnG/d2rtOgZ07difBEvCCPEWw9DjB2RkWPrU/Lw8IV71oYxZzjgLSsGKOv7njsdHe60cFCzb3gHVLBnJVwYJFx4NLSUY5vzzH2drxXi4PF6wA2NLz5Nq19Z0Eix0Mg2Wbgt7LhDsJlvYLUPOQel1ZVhbCZbjPyQUwJ/dypQdfyXWvc2+t/6hg6YiDe0uHfFXBgoWvGhGUnyGVHPVu93J0mmD1AuupfyfBgktPJVORbfUMkVx7doYVXjhzPgglVJxa4Bn2eUEC16M9cq9zb63/qGCZr3MPnc8WzFcVrNJXn5Vw9HI0BKvXYlV983IJ2jPWVxEs2L0CJ06yKMMHIjX3WnyLrSrT77b7qGDJIHU+li04ryxYW/AsXdNL4hCsXotV9YdgHfPHRTn9UeVRwVoK0JZzQ7Dmmd7FCwwHWojZq44J/aPKlu9snon7yAxry3zMM7EexekQrOt2QrsIlslX8xmE4+jFq1ZzB0cVr+8982icnsfG5ouOKiZcz8DpmebCjire7p3pvz6HOKp41ln+u4XTXQTrKGOP5wwLDAu8lgWGYL0W3wPtsMCtLTAE69b0jcYPC7yWBYZgvRbfA+2wwK0tMATr1vSNxg8LvJYFhmC9Ft8D7bDArS0wBOvW9I3GDwu8lgWGYL0W3wPtsMCtLTAE69b0jcYPC7yWBYZgvRbfA+2wwK0tMATr1vSNxg8LvJYFhmC9Ft8D7bDArS0wBOvW9I3GDwu8lgWGYL0W3wPtsMCtLbCLYPkNb7/rXRfHnFsrfk/ryN95WmvP3Hlt1Nap4rjfaF8qrfZYusdR516FU/ac+3kXP+XT4r9ztjqKq9bn+N15PwU1VfzEzloMLvn/1D2fcWwXwfIj/FNgHfMLnWvFb7L7oww9hZN4rsXvNh1RtHHu9+PzY/1L7RAALfao7+Gnh/MbUUf9HtarcMrWfuJ5qgjwlt9wmrPV1D1zTGy4zu9w+YMeRxQ/VOgPoU4Vv5EF71JZ8v+l6/Irvb0x7p67CBZSBZIf0rONCEruGGdgDL/UGYPYV89aEew1GISWy1ygOu63tI8o2qitMiWOBkOczQ/7BXuOEVVkWfRgrmObsmh/idN2XfyVGlnAWgZXX/fIPiza9t45ZSO+qZQc4oG9/VY9rtVhD0vNs/2at5pT15VFx+fPpc1ld2XdZ217Fj7h4oeWCJj2wMFX84OY2qeOY8nO6uQArhrrVHt1uHWMT9Wrj+0mWBotIKm436jWQEWwKYZMBMr5ZFT2BbUAr8EwjONZYsS3m/3/H/fiSKYPHKoAAA02SURBVEf9JnYEK3g8Hz6k+ZNW+XuD2sQenJ1QwRg71IIV/MEJdy1M7pt7uN8RJUH43jllywgWznCKCz5l31/EURzPH4t1ji8I5Pzarrop/KH2X9eXRUcuDhyfy/DK+s/YJlgRKP7k2X4GWxGL8a34tMxe3LouolULlnvEd7MubZF2u38d4zm3tN5NsJCEXIYAMIIVZ4iqMxhggFqAY4QajDpEIMuUYAVoxCD7e621UbsQq9flrIiMYMGuIAfRBIst4My5OcEKTvevBSt43MP5IwrBegVO2TI+yo9wy9eIE99kBwWfBIavEqz4L0GPuIcXdqv9lx+UJWLnmLjJ6KOs8+xtbYBNBwgH//VXjxQ+a19J25yL/8Lv/JRgxXeznhIsepD7vz2k8Z9dBEsQIsmaQQQzAyj+BBKCkQo8MBwkTiE4k3GVGBwvl9oIjO6+HCsOV16/xzbBirgGqz+6EMFCNEFOj8lpLbBaFHXK4toSp21BkGKfI7ivgOI4R5RX4ZQtw1f8EkcRLPyyvXP4t4R7dXBlv/bPmtP6vM7HdXzY+ohCZGERh+LTs+FTxKwlsZpjMLrGtQRHrJYFrhpr6b/q8n2+G5Esr1/b3kWw0jtoqB4KgBzL2LdUVyDVQ76ijsDtKbnHUQGsbdoYXPB4NqxKSIOrJAxGx+KwpR1a8db3aL3ukXrB+d45ZaNwgt/4Lz5hZwf2jz3Ud069XOdcyXmr3V3nPkeViIvnwaT9wWUdXGV7+LiFbUr/L+usbeceZRysXZPzuwhWbj7WwwLDAsMCz7TALoKld0mGccY62cszDTV3r/RSZ+D0zCPLWRjz3KOwyhzyzDPWnn9UORtrL85dBEvK98w/oNl7r8yX9RpjS30TpL3te2b9I8X5008/PRXrFn62XGM+9Jkc9d7LPNFRxbN62/fM+r0436Vg1ROBvUbpqW9C9pkE9t7rSMH64osvTsXaw8sjdU0o9/IwV5/IeztskvnDhw9N9zXRfVTJRPtc+/c+3otzCFavxar6Q7Cu+2fNK6qad58lWL5p4h/eAJpgJlwtAjAEa56qywmWHilLC7lTdUaGNU/4I2dGhtUuzr5ZMtzy9s08mFf5rfYbgjXvpZcRrM8///zt+xffGCHXNxq+1fJNim+3poRp7tgQrHnCHznTGnBzvDx6/JG291z7aIYlq8o3hobstg0JW/EPwZpn6xKChUwkmazXGyHZdyC+C5FK905sD8GaJ/yRM7VgpZPxoaXOxcsOnQ0ucWC/XHQ+/p9na+DW9R5pe8+1WwXLyIBYuT7fKOl4HXOuxjO3fwfB8qU6rnE/h6PleA8v6l5CsIz1vZmZKj6R4ABEq5X0IVhTlnz8WClY/l8ZO5ufsehsDH8Eqg5HZ2M/HyRaqyPbEJAEjni1csr5jypbBcukuv/JkBchMPsivnWyPQF+dcGCJ6JMuHrxBecWTnfxgi2fNXDgfOWbb0PioESLIwiSEuzc9nsTLELBPnprDlIOLxIcsdWe61KwZA14LgueSqGKSBE027JmdfBrHx6d1RyP9fHyWXtubxWs0ofh44c9+IL36oKlk4lgmcLZgjFYe3m8jGAZXpikTA+N8LL0kH93wWILomQ4Jaj93y32EOyCnpOE8LMES/vwpW3WFp2K/39m6Fcusgz7zumU4FBkWz1DitIf9tzeIlgm2Y0S8ON6WHvnXsPp1QVLO8UYrPgvO7JgaF338ngZwQJQr603No/FGCkcnNO3GuGOgsW5OT2cRIrzR4zYQqALBA5CyGKL1Imt9lzXjqnNvb0rXDolhWD18LontvLevYKFN2KtU4GvR4TDY7m+g2D5RANefvkI3tLuLduXEiyZhbSaw5SBSLD0WK1j5bsJlhQ7uA2zCLY18RbUBIyYTw2JSzu1EP5InVqwyiBb2yZsMCZzJsJwtXLq/keVHsHCCZEKZzCu2WLt/B0ES6xmSkBsrmGaO9/L6S5eAMhcA9eOC17Dhzh2AHkj0frh3Z0ES5aCcMIEszWH1WsJBo6xZLM7CBahM4w1v6Xz0WZi1TPhzgZHlVbB0n4dSXDJfsv5xfCmHmFuFee7CZbpgK2dWS+nu3jBVsHy1ohYIT7DhgB6r5Pu8BIpQcL5CVSrYwuIKwsWMTbkE4AyEGKFV/uGUQno1nV8Ye91q2DJGglvsE0FbkTNyxIdaUunezfB0t6XEiyOjUxDIL1VHYQcXWC3OvbVMyx4I8yGELb1zL0Zx5UFC5YMAQV0CsES5GuZ4xTXucfe61bBEqQyf5j4aPmKn5gRazZwP35tGCyLVm8KX44NwZpn+BIZlswKqUifK+8lw8oQkDib+9DjbhGqOHct7nP2e8bxnl4UpzLluuBY0Ap0Lw96hLq+1177rYJVDgeJUdmpGtITHqMNHBG1dMYmqtWd430I1jyzlxAsva1eJ5N4U80V3FPzAwnccn3lDEsgc1hZB8xzTlviWdq+qmCZf5NJ4VSw1sUxwkUcDKUE+Jot6nvstd8iWDoe/LE/Lss5VsPdzNk5lxcnmat0jQ54Du8QrHlmLyFYAlIKjVC9MvItRCoByYneg2DJqPTGcE3NeSyJ09S52Gee4ued6cmwBGPmJAkXrAJR8JZDRK0jXvg1fFqav3sekuU7rQkWbP7nhXqw8FPDv2AmVsQYN/w4c5Oyqkx7LA0L7yhYuJ7yz7Vjy0x8++xlBAswzqpnFhgWAhXRQnTr/ym8coaViVp4CJdA3ko2m11VsGpHxS3sOBSQGSrFJQ0VZZ5L32Wl7t7rNcEKh9qBQ4IEr8wKn44Z/tmGN3OWOIeboC1xfjfBgkfc1py37PdyeSnBqgHqsaTOejEOoAeu60ztX0mwECkIy7kawau3Tab1yHcsdxGskic2wWU6ozitTIvzE4SyfrZTb+/1mmDpTIkKkSVCBEkb+SpO+avzOU7QZFx8eE2s3OdugvXI1EYvl5cWLD0WkhW9b3qyOPDc+iqCpRflfNpuWFT2Qs5xYkFq8pk4z+FZOn5HwQoe81YCPi9b2MKUwNzQs9e5t9ZfEyx+qZ2ESRaFO/OwjmV4q5MivNaGwTIrfjknxrGJ9d0EqzWRKDFmu5ej0wRrLUA5gB4rAdmTdl5FsMxfcGrrZFhwc1pt1BsLjta5uZBcrmOfXuK31J8TkrI92V7jVz2BzzalYBH2uaDe0uYt16wJVjqiZFIZ7kawiDBcOiqLTDL8xz5L6yFY86ydIlgmnjnmUqA6JwNR9FrlK+Mlsp27imAZ6nFYwqSHtc2ZBYTM0TG4OPwaprnzVxMsQmXeRjZcZpRT7ZdhyT4iWLDorefEbt6Nn3tmTbDwJSvWbhzyVZmU6/gqHBbbOGeLOUxTdrmbYD0ypdHL3OGCpVdFiIDVI+mtSjI5OYLT8yLdtnpT5E4du4pgmcPIm0+OzYn1yrDrdeHMPMcUjpZj7nlUacmwzGcQZRwstT9ZStov+AX30pfgR+FcEyz+Slj5ZkRJ23Eb8bXGs1FC70eydxOsntFP7RO9nB4uWASJMyMTwXpYBHF0wAUy8jlyejC9Vw10af8qgqWNBEmgpxeGRQZCuEuhXsKzdC4B30v8lvprgpXX9u4tUKfaneyaKMg8U2zzgSUBT92912uCBRdbwMhXy6Jj0sE6R9TWbDZlozsIFt8Vq4r2bsEJe2/pv6LhCUibIiLHBK/sCmCipJeKgJW3d2xpiJD71esrCVbdtmfvX0mwZJM4U2RZhv34I2QW24K5FCp17dcvJabsVPrGntstgqV9GQ0Q2ixwEmXntnZIdxAs+DNnJ47F9BRna8d6eTxFsPSi5i8swHLuDJkCIE68Bnjq/BCsWPG567VeVKASpIhohkXmIvNav2xRMuzWYVN57Z7brYI15XvPOHYXwTIiwrXYNb2xBXsvj6cIVgmMMhMuPZNXxASM0+txt05GD8HqdYO2+muCJaPguHpeThyhIkwW2ZfFMMpUAIfHfSvPba18vNYQrLY/Z4brcNk7bRMN6GXrdMFKw5+5HoLV6wZt9dcEKxwaDmUIaBioI7LgxdCJc9cvW3Lt0rqtlY/XGoLVJlg6KJyaCsD5Endz53rZGoLVa7Gq/tZUeI7A3uMZflXN2mW3VbB6MbTW3wXUxE2HYLUJVitvS/UmzL94aAjWonnWTw7Buq5zr7M3XWMI1nU5fZeCZdhxVNk6dl/qdXrOHZlhLX1y0NPmrXWP4tQ86tY2PuM6w+ejimc9o81b79GLcxfB8pmCN38m5M5Y8mq91xhb6ptYPgOjZ7KxN3FHFRPpZ2I9CqcXBGfh9Nz6s489cXvWWVj5b2/ZRbB6GzHqDwsMCwwLtFhgCFaLlUadYYFhgUtYYAjWJWgYjRgWGBZoscAQrBYrjTrDAsMCl7DAEKxL0DAaMSwwLNBigSFYLVYadYYFhgUuYYEhWJegYTRiWGBYoMUCQ7BarDTqDAsMC1zCAkOwLkHDaMSwwLBAiwWGYLVYadQZFhgWuIQFhmBdgobRiGGBYYEWCwzBarHSqDMsMCxwCQv8D9hA0Dhng3f0AAAAAElFTkSuQmCC)\r\n"
      ]
    },
    {
      "cell_type": "markdown",
      "metadata": {
        "id": "GFxyISDAC_gB"
      },
      "source": [
        "Dataset called MNIST which has items of handwriting -- the digits 0 through 9\r\n",
        "\r\n"
      ]
    },
    {
      "cell_type": "code",
      "metadata": {
        "id": "HhRPXbEDBy6j"
      },
      "source": [
        "import tensorflow as tf\r\n",
        "import matplotlib.pyplot as plt\r\n",
        "import numpy as np\r\n"
      ],
      "execution_count": 6,
      "outputs": []
    },
    {
      "cell_type": "markdown",
      "metadata": {
        "id": "MyiZD_-LDip2"
      },
      "source": [
        "**My callback class**"
      ]
    },
    {
      "cell_type": "code",
      "metadata": {
        "id": "eNqafIQDDh9O"
      },
      "source": [
        "class my_callback(tf.keras.callbacks.Callback):\r\n",
        "  def on_epoch_end(self,epoch,logs={}):\r\n",
        "    if(logs.get('accuracy')>0.99):\r\n",
        "      print('\\n Reached 99% of accuaracy so stop training !')\r\n",
        "      self.model.stop_training=True"
      ],
      "execution_count": 2,
      "outputs": []
    },
    {
      "cell_type": "markdown",
      "metadata": {
        "id": "pPZNtLJzE1by"
      },
      "source": [
        "**Load the data**"
      ]
    },
    {
      "cell_type": "code",
      "metadata": {
        "id": "-SQpnUHjE5xC"
      },
      "source": [
        "mnist=tf.keras.datasets.mnist\r\n",
        "(training_images,training_labels),(testing_images,testing_labes)=mnist.load_data()"
      ],
      "execution_count": 30,
      "outputs": []
    },
    {
      "cell_type": "code",
      "metadata": {
        "colab": {
          "base_uri": "https://localhost:8080/"
        },
        "id": "fCBNTH3aOnAr",
        "outputId": "03f0d7f0-5984-4a83-dfd3-9972e2232b8b"
      },
      "source": [
        "print(testing_images.shape)\r\n",
        "print(testing_labels.size)"
      ],
      "execution_count": 32,
      "outputs": [
        {
          "output_type": "stream",
          "text": [
            "(10000, 28, 28)\n",
            "60000\n"
          ],
          "name": "stdout"
        }
      ]
    },
    {
      "cell_type": "code",
      "metadata": {
        "colab": {
          "base_uri": "https://localhost:8080/",
          "height": 283
        },
        "id": "QpobiGMnH3DH",
        "outputId": "3f4d4328-8943-457a-bd3e-fb1889821525"
      },
      "source": [
        "plt.imshow(training_images[0],cmap='gray')\r\n",
        "print(training_labels[0])"
      ],
      "execution_count": 10,
      "outputs": [
        {
          "output_type": "stream",
          "text": [
            "5\n"
          ],
          "name": "stdout"
        },
        {
          "output_type": "display_data",
          "data": {
            "image/png": "[encoded data removed]",
            "text/plain": [
              "<Figure size 432x288 with 1 Axes>"
            ]
          },
          "metadata": {
            "tags": [],
            "needs_background": "light"
          }
        }
      ]
    },
    {
      "cell_type": "markdown",
      "metadata": {
        "id": "zhPjD1qzIMvw"
      },
      "source": [
        "**Data Preprocessing**"
      ]
    },
    {
      "cell_type": "code",
      "metadata": {
        "id": "N30Z1C3fIR81"
      },
      "source": [
        "training_images=training_images/255.0\r\n",
        "testing_images=testing_images/255.0"
      ],
      "execution_count": 11,
      "outputs": []
    },
    {
      "cell_type": "code",
      "metadata": {
        "colab": {
          "base_uri": "https://localhost:8080/"
        },
        "id": "2uEJ-I3YI3I0",
        "outputId": "c17c051c-d765-4d01-b6cd-9521b883e9cd"
      },
      "source": [
        "print(training_images.shape)"
      ],
      "execution_count": 12,
      "outputs": [
        {
          "output_type": "stream",
          "text": [
            "(60000, 28, 28)\n"
          ],
          "name": "stdout"
        }
      ]
    },
    {
      "cell_type": "code",
      "metadata": {
        "colab": {
          "base_uri": "https://localhost:8080/"
        },
        "id": "FtQ3Ji3vJfV0",
        "outputId": "0ffd74f6-a545-4dce-d1a4-622a91ca607b"
      },
      "source": [
        "print(training_labels.size)"
      ],
      "execution_count": 15,
      "outputs": [
        {
          "output_type": "stream",
          "text": [
            "60000\n"
          ],
          "name": "stdout"
        }
      ]
    },
    {
      "cell_type": "code",
      "metadata": {
        "colab": {
          "base_uri": "https://localhost:8080/"
        },
        "id": "EShN--dWJ-a9",
        "outputId": "ca27191a-65c5-4db3-cf26-4a43a07edbcb"
      },
      "source": [
        "print(len(np.unique(training_labels)))"
      ],
      "execution_count": 21,
      "outputs": [
        {
          "output_type": "stream",
          "text": [
            "10\n"
          ],
          "name": "stdout"
        }
      ]
    },
    {
      "cell_type": "markdown",
      "metadata": {
        "id": "Mzl0Ygk0IksD"
      },
      "source": [
        "# **Neural Network Construction**"
      ]
    },
    {
      "cell_type": "markdown",
      "metadata": {
        "id": "v2RNX5qvIqQA"
      },
      "source": [
        "**Define the architecture**"
      ]
    },
    {
      "cell_type": "code",
      "metadata": {
        "id": "UqNlSv_rIptK"
      },
      "source": [
        "model=tf.keras.models.Sequential([tf.keras.layers.Flatten(),\r\n",
        "                                  tf.keras.layers.Dense(512,activation=tf.nn.relu),\r\n",
        "                                  tf.keras.layers.Dense(10,activation=tf.nn.softmax)\r\n",
        "                                ])"
      ],
      "execution_count": 22,
      "outputs": []
    },
    {
      "cell_type": "markdown",
      "metadata": {
        "id": "e6VHuH8xLcRT"
      },
      "source": [
        "**Compile our model**"
      ]
    },
    {
      "cell_type": "code",
      "metadata": {
        "id": "sJznu_YXLgFa"
      },
      "source": [
        "model.compile(optimizer='adam',loss='sparse_categorical_crossentropy',metrics=['accuracy'])\r\n"
      ],
      "execution_count": 25,
      "outputs": []
    },
    {
      "cell_type": "markdown",
      "metadata": {
        "id": "PIgC1MIbL9sL"
      },
      "source": [
        "**Fit our model**"
      ]
    },
    {
      "cell_type": "code",
      "metadata": {
        "colab": {
          "base_uri": "https://localhost:8080/"
        },
        "id": "of93V_hAMD1f",
        "outputId": "dd6eba01-64ea-435c-c31c-e704e5058f0a"
      },
      "source": [
        "callbacks=my_callback()\r\n",
        "model.fit(training_images,training_labels,epochs=10,callbacks=[callbacks])"
      ],
      "execution_count": 27,
      "outputs": [
        {
          "output_type": "stream",
          "text": [
            "Epoch 1/10\n",
            "1875/1875 [==============================] - 9s 5ms/step - loss: 0.3385 - accuracy: 0.9023\n",
            "Epoch 2/10\n",
            "1875/1875 [==============================] - 9s 5ms/step - loss: 0.0839 - accuracy: 0.9755\n",
            "Epoch 3/10\n",
            "1875/1875 [==============================] - 8s 5ms/step - loss: 0.0485 - accuracy: 0.9852\n",
            "Epoch 4/10\n",
            "1875/1875 [==============================] - 9s 5ms/step - loss: 0.0339 - accuracy: 0.9892\n",
            "Epoch 5/10\n",
            "1875/1875 [==============================] - 9s 5ms/step - loss: 0.0239 - accuracy: 0.9925\n",
            "\n",
            " Reached 99% of accuaracy so stop training !\n"
          ],
          "name": "stdout"
        },
        {
          "output_type": "execute_result",
          "data": {
            "text/plain": [
              "<tensorflow.python.keras.callbacks.History at 0x7fa8b0259f50>"
            ]
          },
          "metadata": {
            "tags": []
          },
          "execution_count": 27
        }
      ]
    }
  ]
}